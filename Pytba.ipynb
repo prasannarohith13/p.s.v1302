{
 "cells": [
  {
   "cell_type": "code",
   "execution_count": 1,
   "metadata": {},
   "outputs": [
    {
     "name": "stdout",
     "output_type": "stream",
     "text": [
      "hello world\n"
     ]
    }
   ],
   "source": [
    "print(\"hello world\")"
   ]
  },
  {
   "cell_type": "markdown",
   "metadata": {},
   "source": [
    "# Variables"
   ]
  },
  {
   "cell_type": "code",
   "execution_count": 3,
   "metadata": {},
   "outputs": [
    {
     "name": "stdout",
     "output_type": "stream",
     "text": [
      "5 <class 'int'> 140711087956904\n"
     ]
    }
   ],
   "source": [
    "a= 5\n",
    "print(a, type(a), id(a))"
   ]
  },
  {
   "cell_type": "code",
   "execution_count": 10,
   "metadata": {},
   "outputs": [
    {
     "name": "stdout",
     "output_type": "stream",
     "text": [
      "rohithprasanna\n",
      "rohith3\n",
      "rohithrohithrohith\n"
     ]
    }
   ],
   "source": [
    "a = 'rohith'\n",
    "b = 'prasanna'\n",
    "c = a+b\n",
    "print(c)\n",
    "c = 3\n",
    "z = str(c)\n",
    "d = a+z\n",
    "print(d)\n",
    "print(a*c)"
   ]
  },
  {
   "cell_type": "code",
   "execution_count": 11,
   "metadata": {},
   "outputs": [
    {
     "name": "stdout",
     "output_type": "stream",
     "text": [
      "10 15 50 <class 'int'> <class 'int'> <class 'int'> 2495017714192 2495017714352 2495017715472\n"
     ]
    }
   ],
   "source": [
    "a, b, c = 10, 15, 50\n",
    "print(a,b,c, type(a), type(b), type(c), id(a), id(b), id(c))"
   ]
  },
  {
   "cell_type": "code",
   "execution_count": 12,
   "metadata": {},
   "outputs": [
    {
     "name": "stdout",
     "output_type": "stream",
     "text": [
      "10 10 10 <class 'int'> <class 'int'> <class 'int'> 2495017714192 2495017714192 2495017714192\n"
     ]
    }
   ],
   "source": [
    "a = b = c = 10\n",
    "print(a,b,c, type(a), type(b), type(c), id(a), id(b), id(c))"
   ]
  },
  {
   "cell_type": "code",
   "execution_count": 18,
   "metadata": {},
   "outputs": [
    {
     "name": "stdout",
     "output_type": "stream",
     "text": [
      "11025\n"
     ]
    }
   ],
   "source": [
    "a=105\n",
    "b=105\n",
    "c=a*b\n",
    "print (c)"
   ]
  },
  {
   "cell_type": "code",
   "execution_count": 20,
   "metadata": {},
   "outputs": [
    {
     "name": "stdout",
     "output_type": "stream",
     "text": [
      "[1, 2, 34.45, 5j, 'rohith'] <class 'list'> 2495098219376\n",
      "1\n",
      "2\n",
      "34.45\n",
      "5j\n",
      "rohith\n"
     ]
    }
   ],
   "source": [
    "a = [1, 2, 34.45, 5j, 'rohith']\n",
    "print(a, type(a), id(d))\n",
    "\n",
    "for i in a:\n",
    "    print(i)"
   ]
  },
  {
   "cell_type": "code",
   "execution_count": 24,
   "metadata": {},
   "outputs": [
    {
     "name": "stdout",
     "output_type": "stream",
     "text": [
      "{1: 'rohith', 2: 'prasanna', 3: 'prrp'} <class 'dict'> 2495098219376\n",
      "1 rohith\n",
      "2 prasanna\n",
      "3 prrp\n"
     ]
    }
   ],
   "source": [
    "a = {1:'rohith', 2:'prasanna', 3:'prrp'}\n",
    "print(a, type(a), id(d))\n",
    "\n",
    "for i in a:\n",
    "    print(i, a[i])\n"
   ]
  },
  {
   "cell_type": "code",
   "execution_count": 28,
   "metadata": {},
   "outputs": [
    {
     "name": "stdout",
     "output_type": "stream",
     "text": [
      "31 <class 'int'> 2495017714288\n",
      "31 <class 'int'> 2495017714864\n"
     ]
    }
   ],
   "source": [
    "m = 13\n",
    "print(a, type(m), id(m))\n",
    "m = 31\n",
    "print(a, type(m), id(m))\n"
   ]
  },
  {
   "cell_type": "code",
   "execution_count": 29,
   "metadata": {},
   "outputs": [
    {
     "name": "stdout",
     "output_type": "stream",
     "text": [
      "15 2 <class 'int'> <class 'int'> 2495017714352 2495017713936\n"
     ]
    }
   ],
   "source": [
    "a, b = , 2\n",
    "print(a,b,type(a), type(b), id(a), id(b))"
   ]
  },
  {
   "cell_type": "code",
   "execution_count": 42,
   "metadata": {},
   "outputs": [
    {
     "name": "stdout",
     "output_type": "stream",
     "text": [
      "htihor\n"
     ]
    }
   ],
   "source": [
    "s = \"rohith\"[::-1]\n",
    "print(s)"
   ]
  },
  {
   "cell_type": "code",
   "execution_count": 43,
   "metadata": {},
   "outputs": [
    {
     "name": "stdout",
     "output_type": "stream",
     "text": [
      "7.5 2 <class 'float'> <class 'int'> 2495079529616 2495017713936\n"
     ]
    }
   ],
   "source": [
    "a = a/b\n",
    "print(a,b,type(a), type(b), id(a), id(b))"
   ]
  },
  {
   "cell_type": "code",
   "execution_count": 48,
   "metadata": {},
   "outputs": [
    {
     "name": "stdout",
     "output_type": "stream",
     "text": [
      "10000000 <class 'int'> 2495097820720\n"
     ]
    }
   ],
   "source": [
    "a=10000000\n",
    "print(a,type(a),id(a))"
   ]
  },
  {
   "cell_type": "code",
   "execution_count": 50,
   "metadata": {},
   "outputs": [
    {
     "name": "stdout",
     "output_type": "stream",
     "text": [
      "a is 7\n"
     ]
    }
   ],
   "source": [
    "a = 7\n",
    "if a==1:\n",
    "    print(\"A is 1\")\n",
    "elif a==2:\n",
    "    print(\"a is 2\")\n",
    "elif a==3:\n",
    "    print(\"a is 3\")\n",
    "elif a==4:\n",
    "    print(\"a is 4\")\n",
    "elif a==5:\n",
    "    print(\"a is 5\")\n",
    "elif a==6:\n",
    "    print(\"a is 6\")\n",
    "elif a==7:\n",
    "    print(\"a is 7\")\n",
    "else:\n",
    "    print('End')"
   ]
  },
  {
   "cell_type": "code",
   "execution_count": 51,
   "metadata": {},
   "outputs": [
    {
     "name": "stdout",
     "output_type": "stream",
     "text": [
      "finish\n"
     ]
    }
   ],
   "source": [
    "a = 5.0\n",
    "if type(a) is int:\n",
    "    print(' a is an integer')\n",
    "    if a==1:\n",
    "        print(\"A is 1\")\n",
    "    elif a==2:\n",
    "        print(\"a is 2\")\n",
    "    elif a==3:\n",
    "        print(\"a is 3\")\n",
    "    elif a==4:\n",
    "        print(\"a is 4\")\n",
    "    elif a==5:\n",
    "        print(\"a is 5\")\n",
    "    elif a==6:\n",
    "        print(\"a is 6\")\n",
    "    elif a==7:\n",
    "        print(\"a is 7\")\n",
    "    else:\n",
    "        print('End')\n",
    "else:\n",
    "    print('finish')"
   ]
  },
  {
   "cell_type": "code",
   "execution_count": 56,
   "metadata": {},
   "outputs": [
    {
     "name": "stdout",
     "output_type": "stream",
     "text": [
      "Sunday\n",
      "Saturday\n",
      "Invalid day number\n"
     ]
    }
   ],
   "source": [
    "def weekday(n):\n",
    "   match n:\n",
    "      case 0: return \"Sunday\"\n",
    "      case 1: return \"Monday\"\n",
    "      case 2: return \"Tuesday\"\n",
    "      case 3: return \"wednesday\"\n",
    "      case 4: return \"Thursday\"\n",
    "      case 5: return \"Friday\"\n",
    "      case 6: return \"Saturday\"\n",
    "      case _: return \"Invalid day number\"\n",
    "print (weekday(0))\n",
    "print (weekday(6))\n",
    "print (weekday(7))"
   ]
  },
  {
   "cell_type": "code",
   "execution_count": 58,
   "metadata": {},
   "outputs": [
    {
     "name": "stdout",
     "output_type": "stream",
     "text": [
      "10\n",
      "20\n",
      "30\n",
      "40\n",
      "50\n",
      "60\n",
      "70\n",
      "80\n",
      "90\n",
      "1000\n"
     ]
    }
   ],
   "source": [
    "a = [10,20,30,40,50,60,70,80,90,1000]\n",
    "for i in a:\n",
    "    print(i)"
   ]
  },
  {
   "cell_type": "code",
   "execution_count": 59,
   "metadata": {},
   "outputs": [
    {
     "name": "stdout",
     "output_type": "stream",
     "text": [
      "1\n",
      "2\n",
      "3\n",
      "4\n",
      "5\n",
      "6\n",
      "6\n",
      "4\n",
      "5\n",
      "3\n",
      "434\n"
     ]
    }
   ],
   "source": [
    "a = [1,2,3,4,5,6,6,4,5,3,434]\n",
    "for i in a:\n",
    "    print(i)"
   ]
  },
  {
   "cell_type": "code",
   "execution_count": 60,
   "metadata": {},
   "outputs": [
    {
     "name": "stdout",
     "output_type": "stream",
     "text": [
      "0\n",
      "0 0\n",
      "1\n",
      "1 1\n",
      "2\n"
     ]
    }
   ],
   "source": [
    "for i in range(5):\n",
    "    print(i)\n",
    "    if (i==2):\n",
    "        break\n",
    "    print(i,i)"
   ]
  },
  {
   "cell_type": "code",
   "execution_count": 61,
   "metadata": {},
   "outputs": [
    {
     "name": "stdout",
     "output_type": "stream",
     "text": [
      "Rohith\n",
      "50.0 <class 'float'>\n"
     ]
    }
   ],
   "source": [
    "a = 100\n",
    "while type(a) == int:\n",
    "    print('Rohith')\n",
    "    a = a/2\n",
    "    print(a, type(a))"
   ]
  },
  {
   "cell_type": "code",
   "execution_count": 62,
   "metadata": {},
   "outputs": [
    {
     "data": {
      "text/plain": [
       "7"
      ]
     },
     "execution_count": 62,
     "metadata": {},
     "output_type": "execute_result"
    }
   ],
   "source": [
    "def addision(a,b):\n",
    "    return a+b\n",
    "addision(3,4)"
   ]
  },
  {
   "cell_type": "code",
   "execution_count": 63,
   "metadata": {},
   "outputs": [
    {
     "name": "stdout",
     "output_type": "stream",
     "text": [
      "20\n",
      "1\n"
     ]
    }
   ],
   "source": [
    "def addision(a=1,b=0):\n",
    "    return a+b\n",
    "print(addision(10,10))\n",
    "print(addision())"
   ]
  },
  {
   "cell_type": "code",
   "execution_count": 64,
   "metadata": {},
   "outputs": [
    {
     "name": "stdout",
     "output_type": "stream",
     "text": [
      "7\n",
      "1\n"
     ]
    }
   ],
   "source": [
    "def addision(a=1,b=0):\n",
    "    return a+b\n",
    "print(addision(3,4))\n",
    "print(addision())"
   ]
  },
  {
   "cell_type": "code",
   "execution_count": 66,
   "metadata": {},
   "outputs": [
    {
     "name": "stdout",
     "output_type": "stream",
     "text": [
      "-1\n"
     ]
    }
   ],
   "source": [
    "def sub(a, b = 0):\n",
    "    return a-b\n",
    "\n",
    "print(sub(a = 3,b=4))"
   ]
  },
  {
   "cell_type": "code",
   "execution_count": 67,
   "metadata": {},
   "outputs": [
    {
     "name": "stdout",
     "output_type": "stream",
     "text": [
      "welcome\n"
     ]
    }
   ],
   "source": [
    "def greet():\n",
    "    print(\"welcome\")\n",
    "\n",
    "greet()"
   ]
  },
  {
   "cell_type": "code",
   "execution_count": 69,
   "metadata": {},
   "outputs": [
    {
     "name": "stdout",
     "output_type": "stream",
     "text": [
      "0\n",
      "0 0\n",
      "1\n",
      "1 1\n",
      "2\n",
      "2 2\n",
      "3\n",
      "3 3\n",
      "4\n",
      "4 4\n"
     ]
    }
   ],
   "source": [
    "for i in range(5):\n",
    "    print(i)\n",
    "    if (i==2):\n",
    "        pass\n",
    "    print(i, i)"
   ]
  },
  {
   "cell_type": "code",
   "execution_count": null,
   "metadata": {},
   "outputs": [],
   "source": []
  }
 ],
 "metadata": {
  "kernelspec": {
   "display_name": "Python 3",
   "language": "python",
   "name": "python3"
  },
  "language_info": {
   "codemirror_mode": {
    "name": "ipython",
    "version": 3
   },
   "file_extension": ".py",
   "mimetype": "text/x-python",
   "name": "python",
   "nbconvert_exporter": "python",
   "pygments_lexer": "ipython3",
   "version": "3.10.11"
  },
  "orig_nbformat": 4
 },
 "nbformat": 4,
 "nbformat_minor": 2
}
