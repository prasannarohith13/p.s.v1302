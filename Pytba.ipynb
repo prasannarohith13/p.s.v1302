{
 "cells": [
  {
   "cell_type": "code",
   "execution_count": 1,
   "metadata": {},
   "outputs": [
    {
     "name": "stdout",
     "output_type": "stream",
     "text": [
      "hello world\n"
     ]
    }
   ],
   "source": [
    "print(\"hello world\")"
   ]
  },
  {
   "cell_type": "markdown",
   "metadata": {},
   "source": [
    "# Variables"
   ]
  },
  {
   "cell_type": "code",
   "execution_count": 3,
   "metadata": {},
   "outputs": [
    {
     "name": "stdout",
     "output_type": "stream",
     "text": [
      "5 <class 'int'> 140711087956904\n"
     ]
    }
   ],
   "source": [
    "a= 5\n",
    "print(a, type(a), id(a))"
   ]
  },
  {
   "cell_type": "code",
   "execution_count": 10,
   "metadata": {},
   "outputs": [
    {
     "name": "stdout",
     "output_type": "stream",
     "text": [
      "rohithprasanna\n",
      "rohith3\n",
      "rohithrohithrohith\n"
     ]
    }
   ],
   "source": [
    "a = 'rohith'\n",
    "b = 'prasanna'\n",
    "c = a+b\n",
    "print(c)\n",
    "c = 3\n",
    "z = str(c)\n",
    "d = a+z\n",
    "print(d)\n",
    "print(a*c)"
   ]
  },
  {
   "cell_type": "code",
   "execution_count": 11,
   "metadata": {},
   "outputs": [
    {
     "name": "stdout",
     "output_type": "stream",
     "text": [
      "10 15 50 <class 'int'> <class 'int'> <class 'int'> 2495017714192 2495017714352 2495017715472\n"
     ]
    }
   ],
   "source": [
    "#multiple assignment\n",
    "a, b, c = 10, 15, 50\n",
    "print(a,b,c, type(a), type(b), type(c), id(a), id(b), id(c))"
   ]
  },
  {
   "cell_type": "code",
   "execution_count": 12,
   "metadata": {},
   "outputs": [
    {
     "name": "stdout",
     "output_type": "stream",
     "text": [
      "10 10 10 <class 'int'> <class 'int'> <class 'int'> 2495017714192 2495017714192 2495017714192\n"
     ]
    }
   ],
   "source": [
    "a = b = c = 10\n",
    "print(a,b,c, type(a), type(b), type(c), id(a), id(b), id(c))"
   ]
  },
  {
   "cell_type": "code",
   "execution_count": 18,
   "metadata": {},
   "outputs": [
    {
     "name": "stdout",
     "output_type": "stream",
     "text": [
      "11025\n"
     ]
    }
   ],
   "source": [
    "a=105\n",
    "b=105\n",
    "c=a*b\n",
    "print (c)"
   ]
  },
  {
   "cell_type": "code",
   "execution_count": 20,
   "metadata": {},
   "outputs": [
    {
     "name": "stdout",
     "output_type": "stream",
     "text": [
      "[1, 2, 34.45, 5j, 'rohith'] <class 'list'> 2495098219376\n",
      "1\n",
      "2\n",
      "34.45\n",
      "5j\n",
      "rohith\n"
     ]
    }
   ],
   "source": [
    "#list of python\n",
    "a = [1, 2, 34.45, 5j, 'rohith']\n",
    "print(a, type(a), id(d))\n",
    "\n",
    "for i in a:\n",
    "    print(i)"
   ]
  },
  {
   "cell_type": "code",
   "execution_count": 24,
   "metadata": {},
   "outputs": [
    {
     "name": "stdout",
     "output_type": "stream",
     "text": [
      "{1: 'rohith', 2: 'prasanna', 3: 'prrp'} <class 'dict'> 2495098219376\n",
      "1 rohith\n",
      "2 prasanna\n",
      "3 prrp\n"
     ]
    }
   ],
   "source": [
    "#dictionary type\n",
    "a = {1:'rohith', 2:'prasanna', 3:'prrp'}\n",
    "print(a, type(a), id(d))\n",
    "\n",
    "for i in a:\n",
    "    print(i, a[i])\n"
   ]
  },
  {
   "cell_type": "code",
   "execution_count": 28,
   "metadata": {},
   "outputs": [
    {
     "name": "stdout",
     "output_type": "stream",
     "text": [
      "31 <class 'int'> 2495017714288\n",
      "31 <class 'int'> 2495017714864\n"
     ]
    }
   ],
   "source": [
    "m = 13\n",
    "print(a, type(m), id(m))\n",
    "m = 31\n",
    "print(a, type(m), id(m))\n"
   ]
  },
  {
   "cell_type": "code",
   "execution_count": 29,
   "metadata": {},
   "outputs": [
    {
     "name": "stdout",
     "output_type": "stream",
     "text": [
      "15 2 <class 'int'> <class 'int'> 2495017714352 2495017713936\n"
     ]
    }
   ],
   "source": [
    "a, b = , 2\n",
    "print(a,b,type(a), type(b), id(a), id(b))"
   ]
  },
  {
   "cell_type": "code",
   "execution_count": 42,
   "metadata": {},
   "outputs": [
    {
     "name": "stdout",
     "output_type": "stream",
     "text": [
      "htihor\n"
     ]
    }
   ],
   "source": [
    "s = \"rohith\"[::-1]\n",
    "print(s)"
   ]
  },
  {
   "cell_type": "code",
   "execution_count": 43,
   "metadata": {},
   "outputs": [
    {
     "name": "stdout",
     "output_type": "stream",
     "text": [
      "7.5 2 <class 'float'> <class 'int'> 2495079529616 2495017713936\n"
     ]
    }
   ],
   "source": [
    "a = a/b\n",
    "print(a,b,type(a), type(b), id(a), id(b))"
   ]
  },
  {
   "cell_type": "code",
   "execution_count": 48,
   "metadata": {},
   "outputs": [
    {
     "name": "stdout",
     "output_type": "stream",
     "text": [
      "10000000 <class 'int'> 2495097820720\n"
     ]
    }
   ],
   "source": [
    "a=10000000\n",
    "print(a,type(a),id(a))"
   ]
  },
  {
   "cell_type": "code",
   "execution_count": 50,
   "metadata": {},
   "outputs": [
    {
     "name": "stdout",
     "output_type": "stream",
     "text": [
      "a is 7\n"
     ]
    }
   ],
   "source": [
    "a = 7\n",
    "if a==1:\n",
    "    print(\"A is 1\")\n",
    "elif a==2:\n",
    "    print(\"a is 2\")\n",
    "elif a==3:\n",
    "    print(\"a is 3\")\n",
    "elif a==4:\n",
    "    print(\"a is 4\")\n",
    "elif a==5:\n",
    "    print(\"a is 5\")\n",
    "elif a==6:\n",
    "    print(\"a is 6\")\n",
    "elif a==7:\n",
    "    print(\"a is 7\")\n",
    "else:\n",
    "    print('End')"
   ]
  },
  {
   "cell_type": "code",
   "execution_count": 51,
   "metadata": {},
   "outputs": [
    {
     "name": "stdout",
     "output_type": "stream",
     "text": [
      "finish\n"
     ]
    }
   ],
   "source": [
    "a = 5.0\n",
    "if type(a) is int:\n",
    "    print(' a is an integer')\n",
    "    if a==1:\n",
    "        print(\"A is 1\")\n",
    "    elif a==2:\n",
    "        print(\"a is 2\")\n",
    "    elif a==3:\n",
    "        print(\"a is 3\")\n",
    "    elif a==4:\n",
    "        print(\"a is 4\")\n",
    "    elif a==5:\n",
    "        print(\"a is 5\")\n",
    "    elif a==6:\n",
    "        print(\"a is 6\")\n",
    "    elif a==7:\n",
    "        print(\"a is 7\")\n",
    "    else:\n",
    "        print('End')\n",
    "else:\n",
    "    print('finish')"
   ]
  },
  {
   "cell_type": "code",
   "execution_count": 56,
   "metadata": {},
   "outputs": [
    {
     "name": "stdout",
     "output_type": "stream",
     "text": [
      "Sunday\n",
      "Saturday\n",
      "Invalid day number\n"
     ]
    }
   ],
   "source": [
    "def weekday(n):\n",
    "   match n:\n",
    "      case 0: return \"Sunday\"\n",
    "      case 1: return \"Monday\"\n",
    "      case 2: return \"Tuesday\"\n",
    "      case 3: return \"wednesday\"\n",
    "      case 4: return \"Thursday\"\n",
    "      case 5: return \"Friday\"\n",
    "      case 6: return \"Saturday\"\n",
    "      case _: return \"Invalid day number\"\n",
    "print (weekday(0))\n",
    "print (weekday(6))\n",
    "print (weekday(7))"
   ]
  },
  {
   "cell_type": "code",
   "execution_count": 58,
   "metadata": {},
   "outputs": [
    {
     "name": "stdout",
     "output_type": "stream",
     "text": [
      "10\n",
      "20\n",
      "30\n",
      "40\n",
      "50\n",
      "60\n",
      "70\n",
      "80\n",
      "90\n",
      "1000\n"
     ]
    }
   ],
   "source": [
    "a = [10,20,30,40,50,60,70,80,90,1000]\n",
    "for i in a:\n",
    "    print(i)"
   ]
  },
  {
   "cell_type": "code",
   "execution_count": 59,
   "metadata": {},
   "outputs": [
    {
     "name": "stdout",
     "output_type": "stream",
     "text": [
      "1\n",
      "2\n",
      "3\n",
      "4\n",
      "5\n",
      "6\n",
      "6\n",
      "4\n",
      "5\n",
      "3\n",
      "434\n"
     ]
    }
   ],
   "source": [
    "a = [1,2,3,4,5,6,6,4,5,3,434]\n",
    "for i in a:\n",
    "    print(i)"
   ]
  },
  {
   "cell_type": "code",
   "execution_count": 60,
   "metadata": {},
   "outputs": [
    {
     "name": "stdout",
     "output_type": "stream",
     "text": [
      "0\n",
      "0 0\n",
      "1\n",
      "1 1\n",
      "2\n"
     ]
    }
   ],
   "source": [
    "for i in range(5):\n",
    "    print(i)\n",
    "    if (i==2):\n",
    "        break\n",
    "    print(i,i)"
   ]
  },
  {
   "cell_type": "code",
   "execution_count": 61,
   "metadata": {},
   "outputs": [
    {
     "name": "stdout",
     "output_type": "stream",
     "text": [
      "Rohith\n",
      "50.0 <class 'float'>\n"
     ]
    }
   ],
   "source": [
    "#while loop\n",
    "a = 100\n",
    "while type(a) == int:\n",
    "    print('Rohith')\n",
    "    a = a/2\n",
    "    print(a, type(a))"
   ]
  },
  {
   "cell_type": "code",
   "execution_count": 62,
   "metadata": {},
   "outputs": [
    {
     "data": {
      "text/plain": [
       "7"
      ]
     },
     "execution_count": 62,
     "metadata": {},
     "output_type": "execute_result"
    }
   ],
   "source": [
    "def addision(a,b):\n",
    "    return a+b\n",
    "addision(3,4)"
   ]
  },
  {
   "cell_type": "code",
   "execution_count": 63,
   "metadata": {},
   "outputs": [
    {
     "name": "stdout",
     "output_type": "stream",
     "text": [
      "20\n",
      "1\n"
     ]
    }
   ],
   "source": [
    "def addision(a=1,b=0):\n",
    "    return a+b\n",
    "print(addision(10,10))\n",
    "print(addision())"
   ]
  },
  {
   "cell_type": "code",
   "execution_count": 64,
   "metadata": {},
   "outputs": [
    {
     "name": "stdout",
     "output_type": "stream",
     "text": [
      "7\n",
      "1\n"
     ]
    }
   ],
   "source": [
    "def addision(a=1,b=0):\n",
    "    return a+b\n",
    "print(addision(3,4))\n",
    "print(addision())"
   ]
  },
  {
   "cell_type": "code",
   "execution_count": 66,
   "metadata": {},
   "outputs": [
    {
     "name": "stdout",
     "output_type": "stream",
     "text": [
      "-1\n"
     ]
    }
   ],
   "source": [
    "def sub(a, b = 0):\n",
    "    return a-b\n",
    "\n",
    "print(sub(a = 3,b=4))"
   ]
  },
  {
   "cell_type": "code",
   "execution_count": 67,
   "metadata": {},
   "outputs": [
    {
     "name": "stdout",
     "output_type": "stream",
     "text": [
      "welcome\n"
     ]
    }
   ],
   "source": [
    "def greet():\n",
    "    print(\"welcome\")\n",
    "\n",
    "greet()"
   ]
  },
  {
   "cell_type": "code",
   "execution_count": 2,
   "metadata": {},
   "outputs": [
    {
     "name": "stdout",
     "output_type": "stream",
     "text": [
      "0\n",
      "0 0\n",
      "1\n",
      "1 1\n",
      "2\n",
      "2 2\n",
      "3\n",
      "3 3\n",
      "4\n",
      "4 4\n"
     ]
    }
   ],
   "source": [
    "for i in range(5):\n",
    "    print(i)\n",
    "    if (i==2):\n",
    "        pass\n",
    "    print(i, i)"
   ]
  },
  {
   "cell_type": "code",
   "execution_count": 9,
   "metadata": {},
   "outputs": [
    {
     "name": "stdout",
     "output_type": "stream",
     "text": [
      "   September 2023\n",
      "Mo Tu We Th Fr Sa Su\n",
      "             1  2  3\n",
      " 4  5  6  7  8  9 10\n",
      "11 12 13 14 15 16 17\n",
      "18 19 20 21 22 23 24\n",
      "25 26 27 28 29 30\n",
      "\n"
     ]
    }
   ],
   "source": [
    "import calendar\n",
    "year=2023\n",
    "month=9\n",
    "x=calendar.month(year,month)\n",
    "print(x)"
   ]
  },
  {
   "cell_type": "code",
   "execution_count": 4,
   "metadata": {},
   "outputs": [
    {
     "name": "stdout",
     "output_type": "stream",
     "text": [
      "8\n"
     ]
    }
   ],
   "source": [
    "#Arithmetic operator\n",
    "#addition operator\n",
    "a=3\n",
    "b=5\n",
    "c=(a+b)\n",
    "print((c))"
   ]
  },
  {
   "cell_type": "code",
   "execution_count": 5,
   "metadata": {},
   "outputs": [
    {
     "name": "stdout",
     "output_type": "stream",
     "text": [
      "38\n"
     ]
    }
   ],
   "source": [
    "#sub operator\n",
    "a=50\n",
    "b=12\n",
    "c=(a-b)\n",
    "print(c)"
   ]
  },
  {
   "cell_type": "code",
   "execution_count": 6,
   "metadata": {},
   "outputs": [
    {
     "name": "stdout",
     "output_type": "stream",
     "text": [
      "6624\n"
     ]
    }
   ],
   "source": [
    "#mul operator\n",
    "a=96\n",
    "b=69\n",
    "c=(a*b)\n",
    "print(c)"
   ]
  },
  {
   "cell_type": "code",
   "execution_count": 7,
   "metadata": {},
   "outputs": [
    {
     "name": "stdout",
     "output_type": "stream",
     "text": [
      "4.0\n"
     ]
    }
   ],
   "source": [
    "#div operator\n",
    "a=200\n",
    "b=50\n",
    "c=(a/b)\n",
    "print(c)"
   ]
  },
  {
   "cell_type": "code",
   "execution_count": 10,
   "metadata": {},
   "outputs": [
    {
     "name": "stdout",
     "output_type": "stream",
     "text": [
      "1000000\n"
     ]
    }
   ],
   "source": [
    "#pow operator\n",
    "a=10\n",
    "b=6\n",
    "c=(a ** b)\n",
    "print(c)"
   ]
  },
  {
   "cell_type": "code",
   "execution_count": 11,
   "metadata": {},
   "outputs": [
    {
     "name": "stdout",
     "output_type": "stream",
     "text": [
      "5\n"
     ]
    }
   ],
   "source": [
    "#floordiv operator\n",
    "a=50\n",
    "b=10\n",
    "c=(a//b)\n",
    "print(c)"
   ]
  },
  {
   "cell_type": "code",
   "execution_count": 12,
   "metadata": {},
   "outputs": [
    {
     "name": "stdout",
     "output_type": "stream",
     "text": [
      "4\n"
     ]
    }
   ],
   "source": [
    "#mod (a,b)\n",
    "a=10\n",
    "b=6\n",
    "c=(a%b)\n",
    "print(c)"
   ]
  },
  {
   "cell_type": "code",
   "execution_count": 15,
   "metadata": {},
   "outputs": [
    {
     "name": "stdout",
     "output_type": "stream",
     "text": [
      "True\n"
     ]
    }
   ],
   "source": [
    "#comparison operator\n",
    "#greater than>\n",
    "x=10\n",
    "y=6\n",
    "z=(x > y)\n",
    "print(z)"
   ]
  },
  {
   "cell_type": "code",
   "execution_count": 16,
   "metadata": {},
   "outputs": [
    {
     "name": "stdout",
     "output_type": "stream",
     "text": [
      "False\n"
     ]
    }
   ],
   "source": [
    "#lesser than operator\n",
    "a=10\n",
    "b=6\n",
    "c=(a<y)\n",
    "print(c)"
   ]
  },
  {
   "cell_type": "code",
   "execution_count": 20,
   "metadata": {},
   "outputs": [
    {
     "name": "stdout",
     "output_type": "stream",
     "text": [
      "False\n"
     ]
    }
   ],
   "source": [
    "#equal to ==\n",
    "a=20\n",
    "b=10\n",
    "c=(a==b)\n",
    "print(c)"
   ]
  },
  {
   "cell_type": "code",
   "execution_count": 21,
   "metadata": {},
   "outputs": [
    {
     "name": "stdout",
     "output_type": "stream",
     "text": [
      "True\n"
     ]
    }
   ],
   "source": [
    "#not equal\n",
    "a=20\n",
    "b=10\n",
    "c=(a!=y)\n",
    "print(c)"
   ]
  },
  {
   "cell_type": "code",
   "execution_count": 23,
   "metadata": {},
   "outputs": [
    {
     "name": "stdout",
     "output_type": "stream",
     "text": [
      "True\n"
     ]
    }
   ],
   "source": [
    "#greater than (or)equal to\n",
    "a=20\n",
    "b=10\n",
    "c=(a>=y)\n",
    "print(c)"
   ]
  },
  {
   "cell_type": "code",
   "execution_count": 24,
   "metadata": {},
   "outputs": [
    {
     "name": "stdout",
     "output_type": "stream",
     "text": [
      "False\n"
     ]
    }
   ],
   "source": [
    "#less than (or) equal to\n",
    "a=30\n",
    "b=10\n",
    "c=(a<=b)\n",
    "print(c)"
   ]
  },
  {
   "cell_type": "code",
   "execution_count": 25,
   "metadata": {},
   "outputs": [
    {
     "name": "stdout",
     "output_type": "stream",
     "text": [
      "20\n"
     ]
    }
   ],
   "source": [
    "#logical operators\n",
    "#logical AND\n",
    "a=50\n",
    "b=20\n",
    "c=(a and b)\n",
    "print(c)"
   ]
  },
  {
   "cell_type": "code",
   "execution_count": 42,
   "metadata": {},
   "outputs": [
    {
     "name": "stdout",
     "output_type": "stream",
     "text": [
      "50\n"
     ]
    }
   ],
   "source": [
    "#logical OR\n",
    "a=50\n",
    "b=20\n",
    "c=(a or b)\n",
    "print(c)"
   ]
  },
  {
   "cell_type": "code",
   "execution_count": 39,
   "metadata": {},
   "outputs": [
    {
     "name": "stdout",
     "output_type": "stream",
     "text": [
      "False\n"
     ]
    }
   ],
   "source": [
    "#logical NOT\n",
    "a=50\n",
    "b=30\n",
    "c=(not a)\n",
    "print(c)"
   ]
  },
  {
   "cell_type": "code",
   "execution_count": 43,
   "metadata": {},
   "outputs": [
    {
     "name": "stdout",
     "output_type": "stream",
     "text": [
      "72\n"
     ]
    }
   ],
   "source": [
    "#Bitwise operator\n",
    "#bitwise AND\n",
    "a=1000\n",
    "b=1100\n",
    "c=(a&b)\n",
    "print(c)"
   ]
  },
  {
   "cell_type": "code",
   "execution_count": 44,
   "metadata": {},
   "outputs": [
    {
     "name": "stdout",
     "output_type": "stream",
     "text": [
      "14\n"
     ]
    }
   ],
   "source": [
    "#bitwise or\n",
    "a=1010\n",
    "b=1000\n",
    "c=(x|y)\n",
    "print(c)\n"
   ]
  },
  {
   "cell_type": "code",
   "execution_count": 45,
   "metadata": {},
   "outputs": [
    {
     "name": "stdout",
     "output_type": "stream",
     "text": [
      "-10\n"
     ]
    }
   ],
   "source": [
    "#bitwise NOT\n",
    "a=1300\n",
    "b=1252\n",
    "c=(-x)\n",
    "print(c)"
   ]
  },
  {
   "cell_type": "code",
   "execution_count": 46,
   "metadata": {},
   "outputs": [
    {
     "name": "stdout",
     "output_type": "stream",
     "text": [
      "12\n"
     ]
    }
   ],
   "source": [
    "#bitwise XOR\n",
    "a=1200\n",
    "b=1050\n",
    "c=(x^y)\n",
    "print(c)"
   ]
  },
  {
   "cell_type": "code",
   "execution_count": 62,
   "metadata": {},
   "outputs": [
    {
     "data": {
      "text/plain": [
       "50"
      ]
     },
     "execution_count": 62,
     "metadata": {},
     "output_type": "execute_result"
    }
   ],
   "source": [
    "#bitwise right shift\n",
    "a=100\n",
    "a>>1"
   ]
  },
  {
   "cell_type": "code",
   "execution_count": 63,
   "metadata": {},
   "outputs": [
    {
     "data": {
      "text/plain": [
       "4000"
      ]
     },
     "execution_count": 63,
     "metadata": {},
     "output_type": "execute_result"
    }
   ],
   "source": [
    "#bitwise lift shift\n",
    "a=2000\n",
    "a<<1"
   ]
  },
  {
   "cell_type": "code",
   "execution_count": 65,
   "metadata": {},
   "outputs": [
    {
     "name": "stdout",
     "output_type": "stream",
     "text": [
      "['apple', 'mango']\n",
      "False\n",
      "True\n"
     ]
    }
   ],
   "source": [
    "#identity opertor\n",
    "x=[\"apple\",\"mango\"]\n",
    "y=[\"apple\",\"mango\"]\n",
    "z=x\n",
    "print(z)\n",
    "print(x is y )\n",
    "print(x is z)"
   ]
  },
  {
   "cell_type": "code",
   "execution_count": 66,
   "metadata": {},
   "outputs": [
    {
     "name": "stdout",
     "output_type": "stream",
     "text": [
      "False\n"
     ]
    }
   ],
   "source": [
    "#Membership operators\n",
    "x=[\"apple\",\"mango\"]\n",
    "print(\"banana\"in x)\n"
   ]
  },
  {
   "cell_type": "code",
   "execution_count": 67,
   "metadata": {},
   "outputs": [
    {
     "name": "stdout",
     "output_type": "stream",
     "text": [
      "True\n"
     ]
    }
   ],
   "source": [
    "#Membership operators\n",
    "x=[\"apple\",\"mango\"]\n",
    "print(\"banana\"not in x)\n"
   ]
  },
  {
   "cell_type": "code",
   "execution_count": 8,
   "metadata": {},
   "outputs": [],
   "source": [
    "import math"
   ]
  },
  {
   "cell_type": "code",
   "execution_count": 9,
   "metadata": {},
   "outputs": [
    {
     "name": "stdout",
     "output_type": "stream",
     "text": [
      "4.0\n"
     ]
    }
   ],
   "source": [
    "a=16\n",
    "b=math.sqrt(a)\n",
    "print(b)"
   ]
  },
  {
   "cell_type": "code",
   "execution_count": 31,
   "metadata": {},
   "outputs": [
    {
     "name": "stdout",
     "output_type": "stream",
     "text": [
      "12.0\n"
     ]
    }
   ],
   "source": [
    "a=int(input(\"a value\"))\n",
    "b=math.sqrt(a)\n",
    "print(b)"
   ]
  },
  {
   "cell_type": "code",
   "execution_count": 45,
   "metadata": {},
   "outputs": [
    {
     "name": "stdout",
     "output_type": "stream",
     "text": [
      "Value of y: 20\n",
      "Value of x: 90\n"
     ]
    }
   ],
   "source": [
    "#swap operator\n",
    "x = 20\n",
    "y = 90\n",
    "temp = x\n",
    "x = y\n",
    "y = temp\n",
    "print(\"Value of y:\", y)\n",
    "print(\"Value of x:\", x)"
   ]
  },
  {
   "cell_type": "code",
   "execution_count": 70,
   "metadata": {},
   "outputs": [
    {
     "name": "stdout",
     "output_type": "stream",
     "text": [
      "mail Refsnes\n",
      "Tobias Refsnes\n",
      "Linus Refsnes\n"
     ]
    }
   ],
   "source": [
    "#Function with argument\n",
    "def my_function(fname):\n",
    "  print(fname + \" Refsnes\")\n",
    "my_function(\"mail\")\n",
    "my_function(\"Tobias\")\n",
    "my_function(\"Linus\")\n"
   ]
  },
  {
   "cell_type": "code",
   "execution_count": 69,
   "metadata": {},
   "outputs": [
    {
     "name": "stdout",
     "output_type": "stream",
     "text": [
      "hi from a function\n"
     ]
    }
   ],
   "source": [
    "#function\n",
    "def my_function():\n",
    "  print(\"hi from a function\")\n",
    "my_function()\n"
   ]
  },
  {
   "cell_type": "code",
   "execution_count": 72,
   "metadata": {},
   "outputs": [
    {
     "name": "stdout",
     "output_type": "stream",
     "text": [
      "The eldest child is john\n"
     ]
    }
   ],
   "source": [
    "#Arbitrary Arguments *args\n",
    "def my_function(*kids):\n",
    "  print(\"The eldest child is \" + kids[1])\n",
    "my_function(\"rock\", \"john\", \"cena\")"
   ]
  },
  {
   "cell_type": "code",
   "execution_count": 73,
   "metadata": {},
   "outputs": [
    {
     "name": "stdout",
     "output_type": "stream",
     "text": [
      "The youngest child is rohith\n"
     ]
    }
   ],
   "source": [
    "#Keyword Arguments\n",
    "def my_function(child3, child2, child1):\n",
    "  print(\"The youngest child is \" + child2)\n",
    "my_function(child1 = \"prem\", child2 = \"rohith\", child3 = \"prasanna\")\n"
   ]
  },
  {
   "cell_type": "code",
   "execution_count": 1,
   "metadata": {},
   "outputs": [
    {
     "name": "stdout",
     "output_type": "stream",
     "text": [
      "15\n"
     ]
    }
   ],
   "source": [
    "#lambda function\n",
    "#lambda arguments\n",
    "x = lambda a, b : a + b\n",
    "print(x(5, 10)) \n"
   ]
  },
  {
   "cell_type": "code",
   "execution_count": 2,
   "metadata": {},
   "outputs": [
    {
     "name": "stdout",
     "output_type": "stream",
     "text": [
      "9\n",
      "29\n"
     ]
    }
   ],
   "source": [
    "x = lambda a = 14, b = 15 : a + b\n",
    "print(x(5,4))\n",
    "print(x())"
   ]
  },
  {
   "cell_type": "code",
   "execution_count": 6,
   "metadata": {},
   "outputs": [],
   "source": [
    "#a simple class and object creation\n",
    "class Human():\n",
    "    name = 'Rohith prassnna'"
   ]
  },
  {
   "cell_type": "code",
   "execution_count": 7,
   "metadata": {},
   "outputs": [
    {
     "name": "stdout",
     "output_type": "stream",
     "text": [
      "<__main__.Human object at 0x0000022FB2A1E830> <class '__main__.Human'>\n",
      "Rohith prassnna <class 'str'>\n"
     ]
    }
   ],
   "source": [
    "h1 = Human()\n",
    "print(h1, type(h1))\n",
    "print(h1.name, type(h1.name))"
   ]
  },
  {
   "cell_type": "code",
   "execution_count": 8,
   "metadata": {},
   "outputs": [],
   "source": [
    "#The __init__() Function, constructor\n",
    "\n",
    "class Human():\n",
    "    def __init__(self, name, age, sex):\n",
    "        self.name = name\n",
    "        self.age = age\n",
    "        self.sex = sex\n",
    "    def __str__(self):\n",
    "        return self.name"
   ]
  },
  {
   "cell_type": "code",
   "execution_count": 10,
   "metadata": {},
   "outputs": [
    {
     "name": "stdout",
     "output_type": "stream",
     "text": [
      "rohith prasnna <class '__main__.Human'>\n",
      "rohith prasnna <class 'str'>\n",
      "23 <class 'int'>\n",
      "Male <class 'str'>\n"
     ]
    }
   ],
   "source": [
    "h1 = Human(name='rohith prasnna', age=23, sex='Male') # object initialisation\n",
    "print(h1, type(h1))\n",
    "print(h1.name, type(h1.name))\n",
    "print(h1.age, type(h1.age))\n",
    "print(h1.sex, type(h1.sex))"
   ]
  },
  {
   "cell_type": "code",
   "execution_count": 11,
   "metadata": {},
   "outputs": [],
   "source": [
    "def greet():\n",
    "        print('hai I am ', self.name)"
   ]
  },
  {
   "cell_type": "code",
   "execution_count": 14,
   "metadata": {},
   "outputs": [],
   "source": [
    "class Human():\n",
    "    def __init__(self, name = 'Kavin', age = 35, sex = 'Male'):\n",
    "        self.name = name\n",
    "        self.age = age\n",
    "        self.sex = sex\n",
    "    def __str__(self):\n",
    "        return self.name\n",
    "    def greet(self):\n",
    "        print('hai I am ', self.name,'and i am ',self.age, 'old. Please welcome to my home.')"
   ]
  },
  {
   "cell_type": "code",
   "execution_count": 17,
   "metadata": {},
   "outputs": [],
   "source": [
    "h1 = Human(name='rohith', age=23, sex=\"male\")"
   ]
  },
  {
   "cell_type": "code",
   "execution_count": 18,
   "metadata": {},
   "outputs": [
    {
     "name": "stdout",
     "output_type": "stream",
     "text": [
      "hai I am  rohith and i am  23 old. Please welcome to my home.\n"
     ]
    }
   ],
   "source": [
    "h1.greet()"
   ]
  },
  {
   "cell_type": "code",
   "execution_count": 1,
   "metadata": {},
   "outputs": [],
   "source": [
    "#inheritance\n",
    "#Parent class\n",
    "class Human():\n",
    "    def __init__(self, name = 'Rohith', age = 23, sex = 'Male'):\n",
    "        self.name = name\n",
    "        self.age = age\n",
    "        self.sex = sex\n",
    "    def __str__(self):\n",
    "        return self.name\n",
    "    def greet(self):\n",
    "        print('hai I am ', self.name,'and i am ',self.age, 'old. Please welcome to my home.')"
   ]
  },
  {
   "cell_type": "code",
   "execution_count": 26,
   "metadata": {},
   "outputs": [],
   "source": [
    "#child class\n",
    "class Student(Human):\n",
    "    pass"
   ]
  },
  {
   "cell_type": "code",
   "execution_count": 24,
   "metadata": {},
   "outputs": [],
   "source": [
    "s1 = Student(name='rohith', age=23, sex='male')"
   ]
  },
  {
   "cell_type": "code",
   "execution_count": 28,
   "metadata": {},
   "outputs": [
    {
     "name": "stdout",
     "output_type": "stream",
     "text": [
      "hai I am  rohith and i am  23 old. Please welcome to my home.\n"
     ]
    }
   ],
   "source": [
    "s1.greet()"
   ]
  },
  {
   "cell_type": "code",
   "execution_count": 29,
   "metadata": {},
   "outputs": [],
   "source": [
    "#initialising student class\n",
    "class Student(Human):\n",
    "    def __init__(self, name, age, sex, department, college):\n",
    "        super().__init__(name, age, sex)\n",
    "        self.department = department\n",
    "        self.college = college\n",
    "\n",
    "    def intro(self):\n",
    "        print(\"I am\", self.name, \"and I am studying in\", self.college, \"in the\", self.department, \"department.\")"
   ]
  },
  {
   "cell_type": "code",
   "execution_count": 30,
   "metadata": {},
   "outputs": [],
   "source": [
    "s1 = Student(name=\"Rohith\", age=23, sex=\"Male\", department=\"mech\", college=\"PsV\")"
   ]
  },
  {
   "cell_type": "code",
   "execution_count": 31,
   "metadata": {},
   "outputs": [
    {
     "name": "stdout",
     "output_type": "stream",
     "text": [
      "hai I am  Rohith and i am  23 old. Please welcome to my home.\n"
     ]
    }
   ],
   "source": [
    "s1.greet() "
   ]
  },
  {
   "cell_type": "code",
   "execution_count": 33,
   "metadata": {},
   "outputs": [
    {
     "name": "stdout",
     "output_type": "stream",
     "text": [
      "I am Rohith and I am studying in PsV in the mech department.\n"
     ]
    }
   ],
   "source": [
    "s1.intro()"
   ]
  },
  {
   "cell_type": "code",
   "execution_count": 16,
   "metadata": {},
   "outputs": [],
   "source": [
    "class Human:\n",
    "    def __init__(self, name='rohith', age=23, sex='Male'):\n",
    "        self.__name = name  # Private attribute\n",
    "        self.__age = age    # Private attribute\n",
    "        self.__sex = sex    # Private attribute\n",
    "\n",
    "    # Getter methods\n",
    "    def get_name(self):\n",
    "        return self.__name\n",
    "\n",
    "    def get_age(self):\n",
    "        return self.__age\n",
    "\n",
    "    def get_sex(self):\n",
    "        return self.__sex\n",
    "\n",
    "    def greet(self):\n",
    "        print(f\"Hello, I am {self.__name}, and I am {self.__age} years old. Welcome to my home.\")\n",
    "\n",
    "class Student(Human):\n",
    "    def __init__(self, name, age, sex, department, college):\n",
    "        super().__init__(name, age, sex)\n",
    "        self.__department = department  # Private attribute\n",
    "        self.__college = college        # Private attribute\n",
    "\n",
    "    # Getter methods specific to Student\n",
    "    def get_department(self):\n",
    "        return self.__department\n",
    "\n",
    "    def get_college(self):\n",
    "        return self.__college\n",
    "\n",
    "    def intro(self):\n",
    "        print(f\"I am {self.get_name()}, studying in {self.__college}, in the {self.__department} department.\")\n",
    "    \n",
    "    def get_student_info(self):\n",
    "        return f\"Name: {self.get_name()}\\nAge: {self.get_age()}\\nSex: {self.get_sex()}\\nDepartment: {self.__department}\\nCollege: {self.__college}\"\n"
   ]
  },
  {
   "cell_type": "code",
   "execution_count": 15,
   "metadata": {},
   "outputs": [],
   "source": [
    "s1 = Student(name=\"rohith\", age=23, sex=\"male\", department=\"Mechanical Engineering\", college=\"PSV University\")"
   ]
  },
  {
   "cell_type": "code",
   "execution_count": 10,
   "metadata": {},
   "outputs": [
    {
     "name": "stdout",
     "output_type": "stream",
     "text": [
      "Name: rohith\n",
      "Age: 23\n",
      "Sex: male\n",
      "Department: Mechanical Engineering\n",
      "College: PSV University\n"
     ]
    }
   ],
   "source": [
    "print(\"Name:\", s1.get_name())\n",
    "print(\"Age:\", s1.get_age())\n",
    "print(\"Sex:\", s1.get_sex())\n",
    "print(\"Department:\", s1.get_department())\n",
    "print(\"College:\", s1.get_college())"
   ]
  },
  {
   "cell_type": "code",
   "execution_count": 12,
   "metadata": {},
   "outputs": [],
   "source": [
    "class Human():\n",
    "    def __init__(self, name, age, sex):\n",
    "        self.name = name\n",
    "        self.age = age\n",
    "        self.sex = sex\n",
    "    def __str__(self):\n",
    "        return self.name"
   ]
  },
  {
   "cell_type": "code",
   "execution_count": 13,
   "metadata": {},
   "outputs": [
    {
     "name": "stdout",
     "output_type": "stream",
     "text": [
      "Rohithprasanna <class '__main__.Human'>\n",
      "Rohithprasanna <class 'str'>\n",
      "23 <class 'int'>\n",
      "Male <class 'str'>\n"
     ]
    }
   ],
   "source": [
    "h1 = Human(name='Rohithprasanna', age=23, sex='Male')\n",
    "print(h1, type(h1))\n",
    "print(h1.name, type(h1.name))\n",
    "print(h1.age, type(h1.age))\n",
    "print(h1.sex, type(h1.sex))"
   ]
  },
  {
   "cell_type": "code",
   "execution_count": 27,
   "metadata": {},
   "outputs": [],
   "source": [
    "class Human():\n",
    "    name= 'rohith'\n",
    "    department='mechanical'\n",
    "    year= 'final year'"
   ]
  },
  {
   "cell_type": "code",
   "execution_count": 35,
   "metadata": {},
   "outputs": [
    {
     "name": "stdout",
     "output_type": "stream",
     "text": [
      "<__main__.Human object at 0x000002048961EB30> <class '__main__.Human'>\n",
      "rohith <class 'str'>\n",
      "mechanical <class 'str'>\n",
      "final year <class 'str'>\n"
     ]
    }
   ],
   "source": [
    "h1 = Human()\n",
    "print(h1, type(h1))\n",
    "print(h1.name, type(h1.name))\n",
    "print(h1.department,type(h1.department))\n",
    "print(h1.year,type(h1.year))"
   ]
  },
  {
   "cell_type": "code",
   "execution_count": 3,
   "metadata": {},
   "outputs": [],
   "source": [
    "class Human():\n",
    "    def __init__(self,name, department, year):\n",
    "        self.name = name\n",
    "        self.department=department\n",
    "        self.year=year\n",
    "    def __str__(self):\n",
    "        return self.name"
   ]
  },
  {
   "cell_type": "code",
   "execution_count": 4,
   "metadata": {},
   "outputs": [
    {
     "name": "stdout",
     "output_type": "stream",
     "text": [
      "rohith <class '__main__.Human'>\n",
      "rohith <class 'str'>\n",
      "mechanical <class 'str'>\n",
      "final <class 'str'>\n"
     ]
    }
   ],
   "source": [
    "h1 = Human(name='rohith', department='mechanical', year='final') \n",
    "print(h1, type(h1))\n",
    "print(h1.name, type(h1.name))\n",
    "print(h1.department, type(h1.department))\n",
    "print(h1.year, type(h1.year))"
   ]
  },
  {
   "cell_type": "code",
   "execution_count": 10,
   "metadata": {},
   "outputs": [
    {
     "name": "stderr",
     "output_type": "stream",
     "text": [
      "<>:2: SyntaxWarning: list indices must be integers or slices, not tuple; perhaps you missed a comma?\n",
      "<>:2: SyntaxWarning: list indices must be integers or slices, not tuple; perhaps you missed a comma?\n",
      "C:\\Users\\psv102\\AppData\\Local\\Temp\\ipykernel_6296\\2967000426.py:2: SyntaxWarning: list indices must be integers or slices, not tuple; perhaps you missed a comma?\n",
      "  a = [1, 3, 5] [2, 4, 6]\n"
     ]
    }
   ],
   "source": [
    "def solve(a): \n",
    "    a = [1, 3, 5] [2, 4, 6] \n",
    "    a = print(a) \n",
    "    solve(a) \n",
    "    print(a)"
   ]
  },
  {
   "cell_type": "code",
   "execution_count": 26,
   "metadata": {},
   "outputs": [],
   "source": [
    "#python resources"
   ]
  },
  {
   "cell_type": "code",
   "execution_count": 11,
   "metadata": {},
   "outputs": [
    {
     "name": "stdout",
     "output_type": "stream",
     "text": [
      "Twinkle, twinkle, little star, \n",
      "\tHow I wonder what you are! \n",
      "\t\tUp above the world so high, \n",
      "\t\tLike a diamond in the sky. \n",
      "Twinkle, twinkle, little star, \n",
      "\tHow I wonder what you are!\n"
     ]
    }
   ],
   "source": [
    "print(\"Twinkle, twinkle, little star, \\n\\tHow I wonder what you are! \\n\\t\\tUp above the world so high, \\n\\t\\tLike a diamond in the sky. \\nTwinkle, twinkle, little star, \\n\\tHow I wonder what you are!\")"
   ]
  },
  {
   "cell_type": "code",
   "execution_count": 12,
   "metadata": {},
   "outputs": [
    {
     "name": "stdout",
     "output_type": "stream",
     "text": [
      "3.10.11\n"
     ]
    }
   ],
   "source": [
    "import platform\n",
    "print(platform.python_version())"
   ]
  },
  {
   "cell_type": "code",
   "execution_count": 14,
   "metadata": {},
   "outputs": [
    {
     "name": "stdout",
     "output_type": "stream",
     "text": [
      "my name is Rohithprasanna \n",
      "      B.E mechanical engineering in p.s.v\n"
     ]
    }
   ],
   "source": [
    "#multiline string\n",
    "print(\"\"\"my name is Rohithprasanna \n",
    "      B.E mechanical engineering in p.s.v\"\"\")"
   ]
  },
  {
   "cell_type": "code",
   "execution_count": 20,
   "metadata": {},
   "outputs": [
    {
     "name": "stdout",
     "output_type": "stream",
     "text": [
      "Current date and time : \n",
      "2023-09-22 22:53:06\n"
     ]
    }
   ],
   "source": [
    "import datetime\n",
    "now= datetime.datetime.now()\n",
    "print (\"Current date and time : \")\n",
    "print (now.strftime(\"%Y-%m-%d %H:%M:%S\"))\n"
   ]
  },
  {
   "cell_type": "code",
   "execution_count": 25,
   "metadata": {},
   "outputs": [
    {
     "name": "stdout",
     "output_type": "stream",
     "text": [
      "The area of the circle with diameter 55.0 is: 9503.317777109125\n"
     ]
    }
   ],
   "source": [
    "from math import pi\n",
    "d = float(input (\"Input the diameter of the circle : \"))\n",
    "print (\"The area of the circle with diameter \" + str(d) + \" is: \" + str(pi * d**2))\n"
   ]
  },
  {
   "cell_type": "code",
   "execution_count": 9,
   "metadata": {},
   "outputs": [
    {
     "name": "stdout",
     "output_type": "stream",
     "text": [
      "Hello  ROHITHPRASANNA PR\n"
     ]
    }
   ],
   "source": [
    "fname = input(\"Input your First Name : \")\n",
    "lname = input(\"Input your Last Name : \")\n",
    "print (\"Hello  \" + fname + \" \" + lname)"
   ]
  },
  {
   "cell_type": "code",
   "execution_count": 1,
   "metadata": {},
   "outputs": [
    {
     "name": "stdout",
     "output_type": "stream",
     "text": [
      "List :  ['50']\n",
      "Tuple :  ('50',)\n"
     ]
    }
   ],
   "source": [
    "values = input(\"Input some comma seprated numbers : \")\n",
    "list = values.split(\",\")\n",
    "tuple = tuple(list)\n",
    "print('List : ',list)\n",
    "print('Tuple : ',tuple)"
   ]
  },
  {
   "cell_type": "code",
   "execution_count": null,
   "metadata": {},
   "outputs": [],
   "source": [
    "#sample ipynb"
   ]
  },
  {
   "cell_type": "code",
   "execution_count": 2,
   "metadata": {},
   "outputs": [
    {
     "name": "stdout",
     "output_type": "stream",
     "text": [
      "This is non parametrized constructor\n",
      "Hello RohithPrasanna\n"
     ]
    }
   ],
   "source": [
    "class Student:  \n",
    "    # Constructor - non parameterized  \n",
    "    def __init__(self):  \n",
    "        print(\"This is non parametrized constructor\")  \n",
    "    def show(self,name):  \n",
    "        print(\"Hello\",name)  \n",
    "student = Student()  \n",
    "student.show(\"RohithPrasanna\") "
   ]
  },
  {
   "cell_type": "code",
   "execution_count": 6,
   "metadata": {},
   "outputs": [],
   "source": [
    "class BankAccount:\n",
    "    def __init__(self, account_number, balance):\n",
    "        self.__account_number = account_number  \n",
    "        self.__balance = balance  \n",
    "\n",
    "    def get_balance(self):  \n",
    "        return self.__balance\n",
    "\n",
    "    def deposit(self, amount):\n",
    "        if amount > 0:\n",
    "            self.__balance += amount\n",
    "\n",
    "    def withdraw(self, amount):\n",
    "        if amount > 0 and amount <= self.__balance:\n",
    "            self.__balance -= amount\n"
   ]
  },
  {
   "cell_type": "code",
   "execution_count": 7,
   "metadata": {},
   "outputs": [
    {
     "name": "stdout",
     "output_type": "stream",
     "text": [
      "1000\n",
      "500\n"
     ]
    }
   ],
   "source": [
    "account = BankAccount(\"123456\", 1000)\n",
    "print(account.get_balance())  \n",
    "account.withdraw(500)  \n",
    "print(account.get_balance())\n"
   ]
  },
  {
   "cell_type": "code",
   "execution_count": 29,
   "metadata": {},
   "outputs": [
    {
     "name": "stdout",
     "output_type": "stream",
     "text": [
      "Name: Rohithprasanna\n",
      "Age: 23\n",
      "Sex: male\n",
      "Department: Mechanical\n",
      "College: XYZ University\n",
      "Hello, I am Rohithprasanna, and I am 23 years old. Welcome to my home.\n",
      "I am Rohithprasanna, studying in XYZ University, in the Mechanical department.\n"
     ]
    }
   ],
   "source": [
    "class Human:\n",
    "    def __init__(self, name='Rohith', age=23, sex='Male'):\n",
    "        self.__name = name  \n",
    "        self.__age = age    \n",
    "        self.__sex = sex    \n",
    "\n",
    "    # Getter methods\n",
    "    def get_name(self):\n",
    "        return self.__name\n",
    "\n",
    "    def get_age(self):\n",
    "        return self.__age\n",
    "\n",
    "    def get_sex(self):\n",
    "        return self.__sex\n",
    "\n",
    "    def greet(self):\n",
    "        print(f\"Hello, I am {self.__name}, and I am {self.__age} years old. Welcome to my home.\")\n",
    "\n",
    "class Student(Human):\n",
    "    def __init__(self, name, age, sex, department, college):\n",
    "        super().__init__(name, age, sex)\n",
    "        self.__department = department  \n",
    "        self.__college = college        \n",
    "\n",
    "    # Getter methods specific to Student\n",
    "    def get_department(self):\n",
    "        return self.__department\n",
    "\n",
    "    def get_college(self):\n",
    "        return self.__college\n",
    "\n",
    "    def intro(self):\n",
    "        print(f\"I am {self.get_name()}, studying in {self.__college}, in the {self.__department} department.\")\n",
    "\n",
    "# Example usage:\n",
    "student = Student(name=\"Rohithprasanna\", age=23, sex=\"male\", department=\"Mechanical\", college=\"XYZ University\")\n",
    "\n",
    "# Accessing attributes through getter methods\n",
    "print(\"Name:\", student.get_name())\n",
    "print(\"Age:\", student.get_age())\n",
    "print(\"Sex:\", student.get_sex())\n",
    "print(\"Department:\", student.get_department())\n",
    "print(\"College:\", student.get_college())\n",
    "\n",
    "# Calling methods\n",
    "student.greet()\n",
    "student.intro()"
   ]
  },
  {
   "cell_type": "code",
   "execution_count": null,
   "metadata": {},
   "outputs": [],
   "source": [
    "#polymorphish"
   ]
  },
  {
   "cell_type": "code",
   "execution_count": 31,
   "metadata": {},
   "outputs": [
    {
     "name": "stdout",
     "output_type": "stream",
     "text": [
      "Woof!\n",
      "Meow!\n"
     ]
    }
   ],
   "source": [
    "class Animal:\n",
    "    def speak(self):\n",
    "        pass\n",
    "\n",
    "class Dog(Animal):\n",
    "    def speak(self):\n",
    "        return \"Woof!\"\n",
    "\n",
    "class Cat(Animal):\n",
    "    def speak(self):\n",
    "        return \"Meow!\"\n",
    "\n",
    "# Polymorphic function\n",
    "def animal_sound(animal):\n",
    "    return animal.speak()\n",
    "\n",
    "# Create instances\n",
    "dog = Dog()\n",
    "cat = Cat()\n",
    "\n",
    "# Call the polymorphic function with different objects\n",
    "print(animal_sound(dog))  # Output: \"Woof!\"\n",
    "print(animal_sound(cat))  # Output: \"Meow!\"\n"
   ]
  },
  {
   "cell_type": "code",
   "execution_count": 35,
   "metadata": {},
   "outputs": [
    {
     "name": "stdout",
     "output_type": "stream",
     "text": [
      "Rohith Prasanna\n"
     ]
    }
   ],
   "source": [
    "class Human:\n",
    "    def __init__(self, name='Kavin', age=35, sex='Male'):\n",
    "        self.name = name\n",
    "        self.age = age\n",
    "        self.sex = sex\n",
    "\n",
    "    def greet(self):\n",
    "        print(f\"Hello, I am {self.name}, and I am {self.age} years old. Welcome to my home.\")\n",
    "\n",
    "    def __str__(self):\n",
    "        return self.name\n",
    "\n",
    "    def __add__(self, other):\n",
    "        if isinstance(other, Human):\n",
    "            # If 'other' is also a Human object, concatenate the names\n",
    "            combined_name = f\"{self.name} {other.name}\"\n",
    "            return Human(name=combined_name)\n",
    "        elif isinstance(other, Student):\n",
    "            # If 'other' is a Student object, concatenate Student's name with Human's name\n",
    "            combined_name = f\"{self.name} {other.get_name()}\"\n",
    "            return Human(name=combined_name)\n",
    "        else:\n",
    "            raise ValueError(\"Invalid operand type\")\n",
    "\n",
    "class Student(Human):\n",
    "    def __init__(self, name, age, sex, department, college):\n",
    "        super().__init__(name, age, sex)\n",
    "        self.department = department\n",
    "        self.college = college\n",
    "\n",
    "    def intro(self):\n",
    "        print(f\"I am {self.name}, studying in {self.college}, in the {self.department} department.\")\n",
    "\n",
    "    def get_name(self):\n",
    "        return self.name\n",
    "\n",
    "# Example usage:\n",
    "human1 = Human(name=\"Rohith\", age=23, sex=\"male\")\n",
    "student1 = Student(name=\"Prasanna\", age=20, sex=\"Male\", department=\"Computer Science\", college=\"XYZ University\")\n",
    "\n",
    "# Operator overloading for concatenating names\n",
    "combined = human1 + student1\n",
    "print(combined)  # Output: \"Alice Bob\"\n"
   ]
  },
  {
   "cell_type": "code",
   "execution_count": null,
   "metadata": {},
   "outputs": [],
   "source": [
    "#w3 resources"
   ]
  },
  {
   "cell_type": "code",
   "execution_count": 36,
   "metadata": {},
   "outputs": [
    {
     "name": "stdout",
     "output_type": "stream",
     "text": [
      "List :  ['55']\n",
      "Tuple :  ('55',)\n"
     ]
    }
   ],
   "source": [
    "#number sequence\n",
    "values = input(\"Input some comma seprated numbers : \")\n",
    "list = values.split(\",\")\n",
    "tuple = tuple(list)\n",
    "print('List : ',list)\n",
    "print('Tuple : ',tuple)\n"
   ]
  },
  {
   "cell_type": "code",
   "execution_count": 37,
   "metadata": {},
   "outputs": [
    {
     "name": "stdout",
     "output_type": "stream",
     "text": [
      "The extension of the file is : 'rohith'\n"
     ]
    }
   ],
   "source": [
    "#filename\n",
    "filename = input(\"Input the Filename: \")\n",
    "f_extns = filename.split(\".\")\n",
    "print (\"The extension of the file is : \" + repr(f_extns[-1]))"
   ]
  },
  {
   "cell_type": "code",
   "execution_count": 40,
   "metadata": {},
   "outputs": [
    {
     "name": "stdout",
     "output_type": "stream",
     "text": [
      "Red White\n"
     ]
    }
   ],
   "source": [
    "#color list\n",
    "color_list = [\"Red\",\"Green\",\"White\" ,\"Black\"]\n",
    "print( \"%s %s\"%(color_list[0],color_list[-2]))\n"
   ]
  },
  {
   "cell_type": "code",
   "execution_count": 43,
   "metadata": {},
   "outputs": [
    {
     "name": "stdout",
     "output_type": "stream",
     "text": [
      "The examination will start from : 13 / 12 / 2023\n"
     ]
    }
   ],
   "source": [
    "#exam schedule\n",
    "exam_st_date = (13,12,2023)\n",
    "print( \"The examination will start from : %i / %i / %i\"%exam_st_date)\n"
   ]
  },
  {
   "cell_type": "code",
   "execution_count": null,
   "metadata": {},
   "outputs": [],
   "source": []
  },
  {
   "cell_type": "code",
   "execution_count": null,
   "metadata": {},
   "outputs": [],
   "source": []
  }
 ],
 "metadata": {
  "kernelspec": {
   "display_name": "Python 3",
   "language": "python",
   "name": "python3"
  },
  "language_info": {
   "codemirror_mode": {
    "name": "ipython",
    "version": 3
   },
   "file_extension": ".py",
   "mimetype": "text/x-python",
   "name": "python",
   "nbconvert_exporter": "python",
   "pygments_lexer": "ipython3",
   "version": "3.10.11"
  },
  "orig_nbformat": 4
 },
 "nbformat": 4,
 "nbformat_minor": 2
}
